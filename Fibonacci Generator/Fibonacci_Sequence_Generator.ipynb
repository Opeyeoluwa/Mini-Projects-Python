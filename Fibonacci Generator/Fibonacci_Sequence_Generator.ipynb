{
 "cells": [
  {
   "cell_type": "code",
   "execution_count": 1,
   "metadata": {},
   "outputs": [],
   "source": [
    "def fibonacci(n):\n",
    "    if n<0:\n",
    "        print('Incorrect Input')\n",
    "    elif n==1:\n",
    "        return 0\n",
    "    elif n==2:\n",
    "        return 1\n",
    "    else:\n",
    "        return fibonacci(n-1)+ fibonacci(n-2)\n"
   ]
  },
  {
   "cell_type": "code",
   "execution_count": null,
   "metadata": {},
   "outputs": [],
   "source": [
    "def fibonacci2(n):\n",
    "    if n<=1:\n",
    "        return n\n",
    "    else:\n",
    "        return(fibonacci2(n-1) + fibonacci2(n-2))\n"
   ]
  },
  {
   "cell_type": "code",
   "execution_count": null,
   "metadata": {},
   "outputs": [],
   "source": [
    "n= int(input('How many terms would you like to generate? '))\n",
    "def fibonacci(n):\n",
    "    n1=0\n",
    "    n2=1\n",
    "    count=0\n",
    "    if n<=0:\n",
    "        print('Please enter a positive Integer')\n",
    "    elif n==1:\n",
    "        print('Fibonacci sequence up to',n,':')\n",
    "        print(n1)\n",
    "    else:\n",
    "        print('Fibonacci sequence up to',n,':')\n",
    "        while count < n:\n",
    "            print(n1, end=',')\n",
    "            nth= n1+n2\n",
    "            n1=n2\n",
    "            n2=nth\n",
    "            count +=1\n",
    "fibonacci(n)"
   ]
  },
  {
   "cell_type": "code",
   "execution_count": null,
   "metadata": {},
   "outputs": [],
   "source": []
  }
 ],
 "metadata": {
  "kernelspec": {
   "display_name": "Python 3",
   "language": "python",
   "name": "python3"
  },
  "language_info": {
   "codemirror_mode": {
    "name": "ipython",
    "version": 3
   },
   "file_extension": ".py",
   "mimetype": "text/x-python",
   "name": "python",
   "nbconvert_exporter": "python",
   "pygments_lexer": "ipython3",
   "version": "3.6.5"
  }
 },
 "nbformat": 4,
 "nbformat_minor": 2
}
