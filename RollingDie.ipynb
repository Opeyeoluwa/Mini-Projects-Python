{
 "cells": [
  {
   "cell_type": "code",
   "execution_count": null,
   "metadata": {},
   "outputs": [
    {
     "name": "stdout",
     "output_type": "stream",
     "text": [
      "Rolling the dices....\n",
      "The values are...\n",
      "3\n",
      "3\n",
      "Roll the dices again?: yes\n",
      "Rolling the dices....\n",
      "The values are...\n",
      "3\n",
      "4\n"
     ]
    }
   ],
   "source": [
    "# my first game. dice game\n",
    "import numpy as np\n",
    "import random\n",
    "min=1\n",
    "max=6\n",
    "roll_again=\"yes\"\n",
    "while roll_again==\"yes\":\n",
    "    print(\"Rolling the dices....\")\n",
    "    print(\"The values are...\")\n",
    "    print(np.random.randint(min,max))\n",
    "    print(np.random.randint(min,max))\n",
    "    roll_again= input(\"Roll the dices again?: \")\n",
    "    if roll_again==\"no\":\n",
    "        break"
   ]
  },
  {
   "cell_type": "code",
   "execution_count": null,
   "metadata": {},
   "outputs": [],
   "source": [
    "\n"
   ]
  }
 ],
 "metadata": {
  "kernelspec": {
   "display_name": "Python 3",
   "language": "python",
   "name": "python3"
  },
  "language_info": {
   "codemirror_mode": {
    "name": "ipython",
    "version": 3
   },
   "file_extension": ".py",
   "mimetype": "text/x-python",
   "name": "python",
   "nbconvert_exporter": "python",
   "pygments_lexer": "ipython3",
   "version": "3.6.5"
  }
 },
 "nbformat": 4,
 "nbformat_minor": 2
}