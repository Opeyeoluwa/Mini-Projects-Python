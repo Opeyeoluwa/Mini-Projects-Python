{
 "cells": [
  {
   "cell_type": "code",
   "execution_count": 53,
   "metadata": {},
   "outputs": [
    {
     "name": "stdout",
     "output_type": "stream",
     "text": [
      "Enter your sentence here: ope is a boy\n",
      "['ope', 'is', 'a', 'boy']\n"
     ]
    }
   ],
   "source": [
    "password = input('Enter your sentence here: ')\n",
    "gist=[]\n",
    "gist = str(password)\n",
    "word = gist.split()\n",
    "print(word)"
   ]
  },
  {
   "cell_type": "code",
   "execution_count": 69,
   "metadata": {},
   "outputs": [
    {
     "data": {
      "text/plain": [
       "['ope', 'is', 'a', 'boy']"
      ]
     },
     "execution_count": 69,
     "metadata": {},
     "output_type": "execute_result"
    }
   ],
   "source": [
    "word"
   ]
  },
  {
   "cell_type": "code",
   "execution_count": 70,
   "metadata": {},
   "outputs": [],
   "source": [
    "if 'o' in word[0]== 'z':\n",
    "    print(word[0])"
   ]
  },
  {
   "cell_type": "code",
   "execution_count": 74,
   "metadata": {},
   "outputs": [
    {
     "name": "stdout",
     "output_type": "stream",
     "text": [
      "Enter your sentence here: ope is a boy\n",
      "yob a si epo\n"
     ]
    }
   ],
   "source": [
    "password = input('Enter your sentence here: ')\n",
    "translated = ''\n",
    "i = len(password) - 1\n",
    "while i >= 0:\n",
    "    translated = translated + password[i]\n",
    "    i = i - 1\n",
    "print(translated)"
   ]
  },
  {
   "cell_type": "code",
   "execution_count": 2,
   "metadata": {},
   "outputs": [
    {
     "name": "stdout",
     "output_type": "stream",
     "text": [
      "Enter 1 to encrypt, 2 to decrypt and 0 to exit program: 1\n",
      "Enter what you would like to encrypt: ope is\n",
      "mnc\u001e",
      "gq\n",
      "\n",
      "\n",
      "Enter 1 to encrypt, 2 to decrypt and 0 to exit program: 2\n",
      "Enter what you would like to decrypt: mnc gq\n",
      "ope\"is\n",
      "\n",
      "\n",
      "Enter 1 to encrypt, 2 to decrypt and 0 to exit program: 1\n",
      "Enter what you would like to encrypt:  \n",
      "\u001e",
      "\n",
      "\n",
      "\n",
      "Enter 1 to encrypt, 2 to decrypt and 0 to exit program: 0\n"
     ]
    }
   ],
   "source": [
    "message= ''\n",
    "choice= ''\n",
    "result= ''\n",
    "while choice!= 0:\n",
    "    choice= int(input('Enter 1 to encrypt, 2 to decrypt and 0 to exit program: '))\n",
    "    \n",
    "    if choice == 1:\n",
    "        message= input('Enter what you would like to encrypt: ')\n",
    "        for i in range(0, len(message)):\n",
    "            result = result + chr(ord(message[i]) - 2)\n",
    "        print(result + '\\n\\n')\n",
    "        result = ''\n",
    "        \n",
    "    elif choice == 2:\n",
    "        message= input('Enter what you would like to decrypt: ')\n",
    "        for i in range(0, len(message)):\n",
    "            result = result + chr(ord(message[i]) + 2)\n",
    "        print(result + '\\n\\n')\n",
    "        result = ''\n",
    "        \n",
    "    elif choice != 0:\n",
    "        print('You have entered an invalid option')\n"
   ]
  },
  {
   "cell_type": "code",
   "execution_count": null,
   "metadata": {},
   "outputs": [],
   "source": []
  },
  {
   "cell_type": "code",
   "execution_count": null,
   "metadata": {},
   "outputs": [],
   "source": []
  }
 ],
 "metadata": {
  "kernelspec": {
   "display_name": "Python 3",
   "language": "python",
   "name": "python3"
  },
  "language_info": {
   "codemirror_mode": {
    "name": "ipython",
    "version": 3
   },
   "file_extension": ".py",
   "mimetype": "text/x-python",
   "name": "python",
   "nbconvert_exporter": "python",
   "pygments_lexer": "ipython3",
   "version": "3.8.8"
  }
 },
 "nbformat": 4,
 "nbformat_minor": 4
}
