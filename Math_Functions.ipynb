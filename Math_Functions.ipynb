{
 "cells": [
  {
   "cell_type": "code",
   "execution_count": 1,
   "metadata": {},
   "outputs": [],
   "source": [
    "import numpy as np\n",
    "import pandas as pd\n",
    "import math as mt"
   ]
  },
  {
   "cell_type": "code",
   "execution_count": 2,
   "metadata": {},
   "outputs": [],
   "source": [
    "def advancedCal(number):\n",
    "    x=input(\"Enter function: \")\n",
    "    if x==\"c\":\n",
    "        c=np.cos(number)\n",
    "        print(c)\n",
    "    elif x==\"s\":\n",
    "        s=np.sin(number)\n",
    "        print(s)\n",
    "    elif x==\"t\":\n",
    "        t=np.tan(number)\n",
    "        print(t)\n",
    "    elif x==\"l\":\n",
    "        l=np.log(number)\n",
    "        print(l)\n",
    "    else:\n",
    "        print(\"INVALID\")"
   ]
  },
  {
   "cell_type": "code",
   "execution_count": 3,
   "metadata": {},
   "outputs": [
    {
     "name": "stdout",
     "output_type": "stream",
     "text": [
      "Enter function: 50\n",
      "INVALID\n"
     ]
    }
   ],
   "source": [
    "advancedCal(50)"
   ]
  },
  {
   "cell_type": "code",
   "execution_count": null,
   "metadata": {},
   "outputs": [],
   "source": []
  },
  {
   "cell_type": "code",
   "execution_count": null,
   "metadata": {},
   "outputs": [],
   "source": []
  },
  {
   "cell_type": "code",
   "execution_count": 4,
   "metadata": {},
   "outputs": [],
   "source": [
    "def add(a,b):\n",
    "    print(a+b)\n",
    "def subtract(a,b):\n",
    "    print(a-b)\n",
    "def multiply(a,b):\n",
    "    print(a*b)\n",
    "def divide(a,b):\n",
    "    print(a/b)\n",
    "    "
   ]
  },
  {
   "cell_type": "code",
   "execution_count": null,
   "metadata": {},
   "outputs": [],
   "source": []
  },
  {
   "cell_type": "code",
   "execution_count": 16,
   "metadata": {},
   "outputs": [
    {
     "name": "stdout",
     "output_type": "stream",
     "text": [
      "Enter a number: 100\n",
      "The sum of the multiples of 3 is 1683.0\n",
      "The sum of the multiples of 5 is 1050.0\n"
     ]
    }
   ],
   "source": [
    "n=int(input(\"Enter a number: \"))\n",
    "x= n//5\n",
    "y= n//3\n",
    "point= x*(x+1)/2\n",
    "semi= y*(y+1)/2\n",
    "ade= 5*point\n",
    "sola= 3*semi\n",
    "print(\"The sum of the multiples of 3 is\",sola)\n",
    "print(\"The sum of the multiples of 5 is\",ade)"
   ]
  },
  {
   "cell_type": "code",
   "execution_count": 21,
   "metadata": {},
   "outputs": [
    {
     "name": "stdout",
     "output_type": "stream",
     "text": [
      "Enter a number: 11\n",
      "11 is a prime number\n"
     ]
    }
   ],
   "source": [
    "n=int(input(\"Enter a number: \"))\n",
    "if n>1:\n",
    "    for i in range(2,n):\n",
    "        if (n%i)==0:\n",
    "            print(n,\"is not a prime number\")\n",
    "            break\n",
    "    else:\n",
    "        print(n,\"is a prime number\")\n",
    "else:\n",
    "    print(n,\"is not a prime number\")\n",
    "    "
   ]
  },
  {
   "cell_type": "code",
   "execution_count": null,
   "metadata": {},
   "outputs": [],
   "source": [
    "start=int(input(\"Enter a starting number: \"))\n",
    "stop=int(input(\"Enter an ending number: \"))\n",
    "while start<=stop:\n",
    "    for i in range(1,13):\n",
    "        print(start, \"x\", i, \"=\", start*i)\n",
    "    start+=1\n",
    "    "
   ]
  },
  {
   "cell_type": "code",
   "execution_count": null,
   "metadata": {},
   "outputs": [
    {
     "name": "stdout",
     "output_type": "stream",
     "text": [
      "Enter a starting number: 1\n",
      "Enter an ending number: 20\n",
      "[',', 7]\n",
      "[',', 14]\n"
     ]
    }
   ],
   "source": [
    "start=int(input(\"Enter a starting number: \"))\n",
    "stop=int(input(\"Enter an ending number: \"))\n",
    "while start<=stop:\n",
    "    for i in range(start,stop):\n",
    "        if i%7==0:\n",
    "            ans=[]\n",
    "            ans.append(i)\n",
    "            print(ans)\n",
    "            start+=7\n",
    "\n",
    "        "
   ]
  },
  {
   "cell_type": "code",
   "execution_count": null,
   "metadata": {},
   "outputs": [],
   "source": []
  },
  {
   "cell_type": "code",
   "execution_count": null,
   "metadata": {},
   "outputs": [],
   "source": []
  }
 ],
 "metadata": {
  "kernelspec": {
   "display_name": "Python 3",
   "language": "python",
   "name": "python3"
  },
  "language_info": {
   "codemirror_mode": {
    "name": "ipython",
    "version": 3
   },
   "file_extension": ".py",
   "mimetype": "text/x-python",
   "name": "python",
   "nbconvert_exporter": "python",
   "pygments_lexer": "ipython3",
   "version": "3.6.5"
  }
 },
 "nbformat": 4,
 "nbformat_minor": 2
}
